{
 "cells": [
  {
   "cell_type": "markdown",
   "metadata": {},
   "source": [
    "# Activity: Regression and Classification\n"
   ]
  },
  {
   "cell_type": "markdown",
   "metadata": {},
   "source": [
    "In this activity we will be analyzing the iris flower dataset. This dataset contains categorical and continuous variables that we will be exploring. "
   ]
  },
  {
   "cell_type": "code",
   "execution_count": 1,
   "metadata": {},
   "outputs": [
    {
     "data": {
      "text/html": [
       "<div>\n",
       "<style scoped>\n",
       "    .dataframe tbody tr th:only-of-type {\n",
       "        vertical-align: middle;\n",
       "    }\n",
       "\n",
       "    .dataframe tbody tr th {\n",
       "        vertical-align: top;\n",
       "    }\n",
       "\n",
       "    .dataframe thead th {\n",
       "        text-align: right;\n",
       "    }\n",
       "</style>\n",
       "<table border=\"1\" class=\"dataframe\">\n",
       "  <thead>\n",
       "    <tr style=\"text-align: right;\">\n",
       "      <th></th>\n",
       "      <th>sepallengthcm</th>\n",
       "      <th>sepalwidthcm</th>\n",
       "      <th>petallengthcm</th>\n",
       "      <th>petalwidthcm</th>\n",
       "      <th>target</th>\n",
       "      <th>species</th>\n",
       "    </tr>\n",
       "  </thead>\n",
       "  <tbody>\n",
       "    <tr>\n",
       "      <th>0</th>\n",
       "      <td>5.1</td>\n",
       "      <td>3.5</td>\n",
       "      <td>1.4</td>\n",
       "      <td>0.2</td>\n",
       "      <td>0</td>\n",
       "      <td>setosa</td>\n",
       "    </tr>\n",
       "    <tr>\n",
       "      <th>1</th>\n",
       "      <td>4.9</td>\n",
       "      <td>3.0</td>\n",
       "      <td>1.4</td>\n",
       "      <td>0.2</td>\n",
       "      <td>0</td>\n",
       "      <td>setosa</td>\n",
       "    </tr>\n",
       "    <tr>\n",
       "      <th>2</th>\n",
       "      <td>4.7</td>\n",
       "      <td>3.2</td>\n",
       "      <td>1.3</td>\n",
       "      <td>0.2</td>\n",
       "      <td>0</td>\n",
       "      <td>setosa</td>\n",
       "    </tr>\n",
       "    <tr>\n",
       "      <th>3</th>\n",
       "      <td>4.6</td>\n",
       "      <td>3.1</td>\n",
       "      <td>1.5</td>\n",
       "      <td>0.2</td>\n",
       "      <td>0</td>\n",
       "      <td>setosa</td>\n",
       "    </tr>\n",
       "    <tr>\n",
       "      <th>4</th>\n",
       "      <td>5.0</td>\n",
       "      <td>3.6</td>\n",
       "      <td>1.4</td>\n",
       "      <td>0.2</td>\n",
       "      <td>0</td>\n",
       "      <td>setosa</td>\n",
       "    </tr>\n",
       "  </tbody>\n",
       "</table>\n",
       "</div>"
      ],
      "text/plain": [
       "   sepallengthcm  sepalwidthcm  petallengthcm  petalwidthcm  target species\n",
       "0            5.1           3.5            1.4           0.2       0  setosa\n",
       "1            4.9           3.0            1.4           0.2       0  setosa\n",
       "2            4.7           3.2            1.3           0.2       0  setosa\n",
       "3            4.6           3.1            1.5           0.2       0  setosa\n",
       "4            5.0           3.6            1.4           0.2       0  setosa"
      ]
     },
     "execution_count": 1,
     "metadata": {},
     "output_type": "execute_result"
    }
   ],
   "source": [
    "import pandas as pd\n",
    "import numpy as np\n",
    "import matplotlib as mpl\n",
    "import matplotlib.pyplot as plt\n",
    "import seaborn as sns; sns.set()\n",
    "\n",
    "# We will be using the Linear Regression function and kNN function from SKLearn.\n",
    "from sklearn.linear_model import LinearRegression\n",
    "from sklearn.neighbors import KNeighborsClassifier\n",
    "from sklearn.model_selection import train_test_split\n",
    "\n",
    "# Import the data and convert to a pandas dataframe\n",
    "from sklearn import datasets\n",
    "iris = datasets.load_iris()\n",
    "\n",
    "# Formatting the iris dataframe\n",
    "iris_df = pd.DataFrame(data = iris.data, columns = iris.feature_names)\n",
    "iris_df['target'] = pd.Series(iris.target)\n",
    "iris_df['species'] = pd.Categorical.from_codes(iris.target, iris.target_names)\n",
    "iris_df = iris_df.rename(index=str, columns={\"sepal length (cm)\":\"sepallengthcm\",\n",
    "                                             \"sepal width (cm)\":\"sepalwidthcm\",\n",
    "                                             \"petal length (cm)\":\"petallengthcm\",\n",
    "                                             \"petal width (cm)\":\"petalwidthcm\"})\n",
    "iris_df.head()"
   ]
  },
  {
   "cell_type": "markdown",
   "metadata": {},
   "source": [
    "# Example 1: Simple Linear Regression"
   ]
  },
  {
   "cell_type": "markdown",
   "metadata": {},
   "source": [
    "Linear Regression tries to best fit a line (linear model) to the data set by adjusting a set of parameters in order to minimize the sum of the squared residuals. The linear model provides an equation to make predictions on unseen values. "
   ]
  },
  {
   "cell_type": "markdown",
   "metadata": {},
   "source": [
    "Linear models can be expressed as the following equation:\n",
    "\n",
    "$$y = X\\beta + \\epsilon$$\n",
    "\n",
    "**Where**:\n",
    "\n",
    " - $X$: The independent variable (the predictor).\n",
    " - $y$: The dependent variable (the prediction).\n",
    " - $\\beta$: Coefficients (slope of the line).\n",
    " - $\\epsilon$: Observation noise (the intercept).\n",
    "\n",
    "First, let's plot petal length vs. petal width using a scatter plot, and colour by species. This will help us visualize the data we're working with."
   ]
  },
  {
   "cell_type": "code",
   "execution_count": 2,
   "metadata": {},
   "outputs": [
    {
     "data": {
      "text/plain": [
       "<seaborn.axisgrid.FacetGrid at 0x11121f240>"
      ]
     },
     "execution_count": 2,
     "metadata": {},
     "output_type": "execute_result"
    },
    {
     "data": {
      "image/png": "[encoded data removed]",
      "text/plain": [
       "<matplotlib.figure.Figure at 0x11121f470>"
      ]
     },
     "metadata": {},
     "output_type": "display_data"
    }
   ],
   "source": [
    "# Plot 1\n",
    "sns.FacetGrid(data = iris_df, hue = 'species', height = 10).\\\n",
    "                   map(plt.scatter, 'petallengthcm',\n",
    "                   'petalwidthcm').add_legend()"
   ]
  },
  {
   "cell_type": "markdown",
   "metadata": {},
   "source": [
    "We can see that there is a positive trend in this data. As petal width increases, petal length also increases. To model this relationship, I will create a linear model for petal length vs. petal width."
   ]
  },
  {
   "cell_type": "code",
   "execution_count": 15,
   "metadata": {},
   "outputs": [
    {
     "name": "stdout",
     "output_type": "stream",
     "text": [
      "Linear model coefficient: 0.416419132285\n",
      "Linear model intercept: -0.366514045217\n"
     ]
    }
   ],
   "source": [
    "# Create linear regression object\n",
    "lm = LinearRegression()\n",
    "\n",
    "# Fit the model using all the data. X = 'petallengthcm', Y = 'petalwidthcm'.\n",
    "model = lm.fit(X = iris_df['petallengthcm'].values.reshape(-1,1), y = iris_df['petalwidthcm'])\n",
    "\n",
    "# Linear model coefficient (the slope of the line)\n",
    "lm_coef = model.coef_[0]\n",
    "\n",
    "# Linear model y-intercept\n",
    "lm_intercept = model.intercept_\n",
    "\n",
    "print(\"Linear model coefficient:\", lm_coef)\n",
    "print(\"Linear model intercept:\", lm_intercept)"
   ]
  },
  {
   "cell_type": "markdown",
   "metadata": {},
   "source": [
    "Now that we have the slope and the intercept of the fitted line, we can plot it against all three species categories."
   ]
  },
  {
   "cell_type": "code",
   "execution_count": 4,
   "metadata": {},
   "outputs": [
    {
     "data": {
      "image/png": "[encoded data removed]",
      "text/plain": [
       "<matplotlib.figure.Figure at 0x116689278>"
      ]
     },
     "metadata": {},
     "output_type": "display_data"
    }
   ],
   "source": [
    "# Plot 2\n",
    "# Scatter plot\n",
    "sns.FacetGrid(data = iris_df, hue = 'species', height = 10).\\\n",
    "                   map(plt.scatter, 'petallengthcm',\n",
    "                   'petalwidthcm')\n",
    "\n",
    "# Add linear model    \n",
    "plt.plot(iris_df['petallengthcm'], \n",
    "         (iris_df['petallengthcm'] * lm_coef + lm_intercept), \n",
    "         'b', \n",
    "         label='Linear Regression Line')\n",
    "\n",
    "# Label axis\n",
    "plt.ylabel('y: Petal Width, cm')\n",
    "plt.xlabel('x: Petal Length, cm')\n",
    "plt.legend(loc='upper left')\n",
    "plt.show()"
   ]
  },
  {
   "cell_type": "markdown",
   "metadata": {},
   "source": [
    "With the above linear model, it is now possible to make predictions for petal width and petal length that are outside of the existing boundary. Let's say we wanted to make an estimate for petal width when petal length is 3cm. We can figure this out through our linear model expression:\n",
    "\n",
    "$$y = X\\beta + \\epsilon$$\n",
    "$$y = (3cm * 0.416) - 0.366$$\n",
    "$$y = 0.8827cm$$\n",
    "\n",
    "$$petalwidthcm = 0.8827cm$$"
   ]
  },
  {
   "cell_type": "code",
   "execution_count": 16,
   "metadata": {},
   "outputs": [
    {
     "name": "stdout",
     "output_type": "stream",
     "text": [
      "Using the prediction function: [ 0.88274335]\n",
      "Using the expression 0.882743351639\n"
     ]
    }
   ],
   "source": [
    "# Using the predict function:\n",
    "print('Using the prediction function:',lm.predict(3))\n",
    "print('Using the expression',lm_coef*3 + lm_intercept)"
   ]
  },
  {
   "cell_type": "markdown",
   "metadata": {},
   "source": [
    "## Question 1: Mean by species  \n",
    "\n",
    "A) Plot the mean sepal width for each species using boxplots.  \n",
    "B) Plot the mean sepal length for each species using boxplots.  \n",
    "C) Plot the mean petal width for each species using boxplots.  \n",
    "D) Plot the mean petal length for each species using boxplots.  \n",
    "E) What observations/conclusions can be made from these plots? \n",
    "\n",
    "Hint: sns.boxplot(x='species', y='???', data=iris_df)"
   ]
  },
  {
   "cell_type": "markdown",
   "metadata": {},
   "source": [
    "## Question 2: Linear Model by species  \n",
    "Use the Example 1 as reference.  \n",
    "\n",
    "A) Plot a linear model for the Setosa species.  \n",
    "B) Plot a linear model for the Veriscolour species.  \n",
    "C) Plot a linear model for the Virginica species.  "
   ]
  },
  {
   "cell_type": "markdown",
   "metadata": {},
   "source": [
    "## Question 3: Coefficients by species  \n",
    "\n",
    "A) What is the value of $\\beta$ and $\\epsilon$ of the linear model for the Setosa species?  \n",
    "B) What is the value of $\\beta$ and $\\epsilon$ of the linear model for the Veriscolour species?  \n",
    "C) What is the value of $\\beta$ and $\\epsilon$ of the linear model for the Virginica species?  "
   ]
  },
  {
   "cell_type": "markdown",
   "metadata": {},
   "source": [
    "## Question 4: Predictions\n",
    "\n",
    "A) Given that a Veriscolour flower has a petal length of 6cm, what is the estimated petal width?  \n",
    "B) Given that a Setosa flower has a petal width of 0.7cm, what is the estimated petal length?  "
   ]
  },
  {
   "cell_type": "markdown",
   "metadata": {},
   "source": [
    "## Bonus:\n",
    "\n",
    "What is a residual?  \n",
    " "
   ]
  },
  {
   "cell_type": "markdown",
   "metadata": {},
   "source": [
    "# Example 2: k-Nearest Neighbors Classification"
   ]
  },
  {
   "cell_type": "markdown",
   "metadata": {},
   "source": [
    "k-Nearest Neighbors is one of the most simple classification methods. An observation is classified as by the most common vote of the observations neighbors. For example, if k=1, then the observation takes on the classification of the closest neighbor.  \n",
    " \n",
    "As seen in the table below, various continuous variables (petal width, petal length, etc.) are associated with a discrete label (species). "
   ]
  },
  {
   "cell_type": "code",
   "execution_count": 5,
   "metadata": {},
   "outputs": [
    {
     "data": {
      "text/html": [
       "<div>\n",
       "<style scoped>\n",
       "    .dataframe tbody tr th:only-of-type {\n",
       "        vertical-align: middle;\n",
       "    }\n",
       "\n",
       "    .dataframe tbody tr th {\n",
       "        vertical-align: top;\n",
       "    }\n",
       "\n",
       "    .dataframe thead th {\n",
       "        text-align: right;\n",
       "    }\n",
       "</style>\n",
       "<table border=\"1\" class=\"dataframe\">\n",
       "  <thead>\n",
       "    <tr style=\"text-align: right;\">\n",
       "      <th></th>\n",
       "      <th>sepallengthcm</th>\n",
       "      <th>sepalwidthcm</th>\n",
       "      <th>petallengthcm</th>\n",
       "      <th>petalwidthcm</th>\n",
       "      <th>target</th>\n",
       "      <th>species</th>\n",
       "    </tr>\n",
       "  </thead>\n",
       "  <tbody>\n",
       "    <tr>\n",
       "      <th>0</th>\n",
       "      <td>5.1</td>\n",
       "      <td>3.5</td>\n",
       "      <td>1.4</td>\n",
       "      <td>0.2</td>\n",
       "      <td>0</td>\n",
       "      <td>setosa</td>\n",
       "    </tr>\n",
       "    <tr>\n",
       "      <th>1</th>\n",
       "      <td>4.9</td>\n",
       "      <td>3.0</td>\n",
       "      <td>1.4</td>\n",
       "      <td>0.2</td>\n",
       "      <td>0</td>\n",
       "      <td>setosa</td>\n",
       "    </tr>\n",
       "    <tr>\n",
       "      <th>2</th>\n",
       "      <td>4.7</td>\n",
       "      <td>3.2</td>\n",
       "      <td>1.3</td>\n",
       "      <td>0.2</td>\n",
       "      <td>0</td>\n",
       "      <td>setosa</td>\n",
       "    </tr>\n",
       "    <tr>\n",
       "      <th>3</th>\n",
       "      <td>4.6</td>\n",
       "      <td>3.1</td>\n",
       "      <td>1.5</td>\n",
       "      <td>0.2</td>\n",
       "      <td>0</td>\n",
       "      <td>setosa</td>\n",
       "    </tr>\n",
       "    <tr>\n",
       "      <th>4</th>\n",
       "      <td>5.0</td>\n",
       "      <td>3.6</td>\n",
       "      <td>1.4</td>\n",
       "      <td>0.2</td>\n",
       "      <td>0</td>\n",
       "      <td>setosa</td>\n",
       "    </tr>\n",
       "  </tbody>\n",
       "</table>\n",
       "</div>"
      ],
      "text/plain": [
       "   sepallengthcm  sepalwidthcm  petallengthcm  petalwidthcm  target species\n",
       "0            5.1           3.5            1.4           0.2       0  setosa\n",
       "1            4.9           3.0            1.4           0.2       0  setosa\n",
       "2            4.7           3.2            1.3           0.2       0  setosa\n",
       "3            4.6           3.1            1.5           0.2       0  setosa\n",
       "4            5.0           3.6            1.4           0.2       0  setosa"
      ]
     },
     "execution_count": 5,
     "metadata": {},
     "output_type": "execute_result"
    }
   ],
   "source": [
    "iris_df.head()"
   ]
  },
  {
   "cell_type": "code",
   "execution_count": 6,
   "metadata": {},
   "outputs": [
    {
     "data": {
      "text/html": [
       "<div>\n",
       "<style scoped>\n",
       "    .dataframe tbody tr th:only-of-type {\n",
       "        vertical-align: middle;\n",
       "    }\n",
       "\n",
       "    .dataframe tbody tr th {\n",
       "        vertical-align: top;\n",
       "    }\n",
       "\n",
       "    .dataframe thead th {\n",
       "        text-align: right;\n",
       "    }\n",
       "</style>\n",
       "<table border=\"1\" class=\"dataframe\">\n",
       "  <thead>\n",
       "    <tr style=\"text-align: right;\">\n",
       "      <th></th>\n",
       "      <th>sepallengthcm</th>\n",
       "      <th>sepalwidthcm</th>\n",
       "      <th>petallengthcm</th>\n",
       "      <th>petalwidthcm</th>\n",
       "      <th>target</th>\n",
       "      <th>species</th>\n",
       "    </tr>\n",
       "  </thead>\n",
       "  <tbody>\n",
       "    <tr>\n",
       "      <th>145</th>\n",
       "      <td>6.7</td>\n",
       "      <td>3.0</td>\n",
       "      <td>5.2</td>\n",
       "      <td>2.3</td>\n",
       "      <td>2</td>\n",
       "      <td>virginica</td>\n",
       "    </tr>\n",
       "    <tr>\n",
       "      <th>146</th>\n",
       "      <td>6.3</td>\n",
       "      <td>2.5</td>\n",
       "      <td>5.0</td>\n",
       "      <td>1.9</td>\n",
       "      <td>2</td>\n",
       "      <td>virginica</td>\n",
       "    </tr>\n",
       "    <tr>\n",
       "      <th>147</th>\n",
       "      <td>6.5</td>\n",
       "      <td>3.0</td>\n",
       "      <td>5.2</td>\n",
       "      <td>2.0</td>\n",
       "      <td>2</td>\n",
       "      <td>virginica</td>\n",
       "    </tr>\n",
       "    <tr>\n",
       "      <th>148</th>\n",
       "      <td>6.2</td>\n",
       "      <td>3.4</td>\n",
       "      <td>5.4</td>\n",
       "      <td>2.3</td>\n",
       "      <td>2</td>\n",
       "      <td>virginica</td>\n",
       "    </tr>\n",
       "    <tr>\n",
       "      <th>149</th>\n",
       "      <td>5.9</td>\n",
       "      <td>3.0</td>\n",
       "      <td>5.1</td>\n",
       "      <td>1.8</td>\n",
       "      <td>2</td>\n",
       "      <td>virginica</td>\n",
       "    </tr>\n",
       "  </tbody>\n",
       "</table>\n",
       "</div>"
      ],
      "text/plain": [
       "     sepallengthcm  sepalwidthcm  petallengthcm  petalwidthcm  target  \\\n",
       "145            6.7           3.0            5.2           2.3       2   \n",
       "146            6.3           2.5            5.0           1.9       2   \n",
       "147            6.5           3.0            5.2           2.0       2   \n",
       "148            6.2           3.4            5.4           2.3       2   \n",
       "149            5.9           3.0            5.1           1.8       2   \n",
       "\n",
       "       species  \n",
       "145  virginica  \n",
       "146  virginica  \n",
       "147  virginica  \n",
       "148  virginica  \n",
       "149  virginica  "
      ]
     },
     "execution_count": 6,
     "metadata": {},
     "output_type": "execute_result"
    }
   ],
   "source": [
    "iris_df.tail()"
   ]
  },
  {
   "cell_type": "markdown",
   "metadata": {},
   "source": [
    "Given some characteristics about a flower, we wish to classify what species of flower is most likely. To test this, we will divide the data into a testing and training set. This will allow us to train our model on the training data, and test the accuracy of the model on the testing data.\n",
    "\n",
    "Note: Make sure that the model is not trained on the testing data. "
   ]
  },
  {
   "cell_type": "code",
   "execution_count": 7,
   "metadata": {},
   "outputs": [
    {
     "name": "stdout",
     "output_type": "stream",
     "text": [
      "Training set length: 112.\n",
      "Test set length: 38\n"
     ]
    }
   ],
   "source": [
    "# Split the data into a testing and training set so we can test the model accuracy.\n",
    "X_train, X_test, Y_train, Y_test = train_test_split(\n",
    "        iris_df.loc[:, ['petallengthcm', 'petalwidthcm']], # Independent variables\n",
    "        iris_df.loc[:, 'species']) # Independent variable\n",
    "\n",
    "print('Training set length: {}.\\nTest set length: {}'.format(X_train.shape[0], X_test.shape[0]))"
   ]
  },
  {
   "cell_type": "markdown",
   "metadata": {},
   "source": [
    "__Accuracy__: The amount of correct classifications / the total amount of classifications.  \n",
    "__Training Accuracy__: The accuracy of a model on observations it was trained on.  \n",
    "__Test Accuracy__: The accuracy of a model on observations it hasn't seen.  "
   ]
  },
  {
   "cell_type": "code",
   "execution_count": 8,
   "metadata": {},
   "outputs": [
    {
     "name": "stdout",
     "output_type": "stream",
     "text": [
      "Training Accuracy 0.9821428571428571\n",
      "Testing Accuracy 1.0\n"
     ]
    }
   ],
   "source": [
    "knn = KNeighborsClassifier(n_neighbors = 3)\n",
    "knn.fit(X_train, Y_train)\n",
    "\n",
    "print (\"Training Accuracy {}\".format(knn.score(X_train, Y_train)))\n",
    "print (\"Testing Accuracy {}\".format(knn.score(X_test, Y_test)))"
   ]
  },
  {
   "cell_type": "markdown",
   "metadata": {},
   "source": [
    "Now, we will try making a prediction on some made-up observation"
   ]
  },
  {
   "cell_type": "code",
   "execution_count": 9,
   "metadata": {},
   "outputs": [
    {
     "name": "stdout",
     "output_type": "stream",
     "text": [
      "Flower type: ['setosa'].\n",
      "Probability distribution among categories : [[ 1.  0.  0.]]\n"
     ]
    }
   ],
   "source": [
    "category = knn.predict([[1.7,0.3]]) # Corresponds to 'petallengthcm', 'petalwidthcm'\n",
    "prob = knn.predict_proba([[1.7,0.3]])\n",
    "print('Flower type: {}.\\nProbability distribution among categories : {}'.format(category, prob))"
   ]
  },
  {
   "cell_type": "markdown",
   "metadata": {},
   "source": [
    "## Question 5:  Using the fitted model\n",
    "\n",
    "A) What type of flower has a petal length of 5cm and petal width of 2cm? What is the probability distribution?  \n",
    "B) What type of flower has a petal length of 4cm and petal width of 1.5cm? What is the probability distribution?  \n",
    "\n",
    "Hint: Plot a scatterplot to visualize"
   ]
  },
  {
   "cell_type": "markdown",
   "metadata": {},
   "source": [
    "## Question 6: Retraining the model\n",
    "\n",
    "A) What type of flower has a sepal length of 6cm and sepal width of 3cm? What is the probability distribution?  \n",
    "B) What type of flower has a sepal length of 4.5cm and sepal width of 3cm? What is the probability distribution?  \n",
    "C) What is the testing and training accuracy?  \n",
    "D) Change the value of k to 10. How does this change the model? What are the new testing and training accuracy scores?"
   ]
  },
  {
   "cell_type": "markdown",
   "metadata": {},
   "source": [
    "# Congrats! That's the end of the activity!"
   ]
  }
 ],
 "metadata": {
  "kernelspec": {
   "display_name": "Python 3",
   "language": "python",
   "name": "python3"
  },
  "language_info": {
   "codemirror_mode": {
    "name": "ipython",
    "version": 3
   },
   "file_extension": ".py",
   "mimetype": "text/x-python",
   "name": "python",
   "nbconvert_exporter": "python",
   "pygments_lexer": "ipython3",
   "version": "3.6.4"
  }
 },
 "nbformat": 4,
 "nbformat_minor": 2
}
